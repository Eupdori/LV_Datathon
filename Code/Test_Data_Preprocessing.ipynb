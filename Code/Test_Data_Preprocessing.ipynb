{
 "cells": [
  {
   "cell_type": "code",
   "execution_count": 1,
   "id": "coordinated-place",
   "metadata": {
    "ExecuteTime": {
     "end_time": "2021-12-07T10:55:35.870189Z",
     "start_time": "2021-12-07T10:55:35.593258Z"
    }
   },
   "outputs": [],
   "source": [
    "import cv2\n",
    "import glob\n",
    "import numpy as np\n",
    "import matplotlib.pyplot as plt"
   ]
  },
  {
   "cell_type": "code",
   "execution_count": null,
   "id": "expressed-belief",
   "metadata": {
    "ExecuteTime": {
     "end_time": "2021-12-07T10:55:44.929582Z",
     "start_time": "2021-12-07T10:55:44.875093Z"
    }
   },
   "outputs": [],
   "source": [
    "test_A2C_image_list = sorted(glob.glob('../data/raw_test_data/A2C/*.png'))\n",
    "test_A4C_image_list = sorted(glob.glob('../data/raw_test_data/A4C/*.png'))\n",
    "\n",
    "test_A2C_label_list = sorted(glob.glob('../data/raw_test_data/A2C/*.npy'))\n",
    "test_A4C_label_list = sorted(glob.glob('../data/raw_test_data/A4C/*.npy'))"
   ]
  },
  {
   "cell_type": "code",
   "execution_count": null,
   "id": "affiliated-manual",
   "metadata": {
    "ExecuteTime": {
     "end_time": "2021-12-07T10:55:45.544301Z",
     "start_time": "2021-12-07T10:55:45.538379Z"
    }
   },
   "outputs": [],
   "source": [
    "print(len(test_A2C_image_list), len(test_A4C_image_list))\n",
    "print(len(test_A2C_label_list), len(test_A4C_label_list))"
   ]
  },
  {
   "cell_type": "code",
   "execution_count": null,
   "id": "reverse-partition",
   "metadata": {
    "ExecuteTime": {
     "end_time": "2021-12-07T10:55:46.221345Z",
     "start_time": "2021-12-07T10:55:46.211029Z"
    }
   },
   "outputs": [],
   "source": [
    "test_A2C_image_array_list = np.zeros((len(test_A2C_image_list), 512, 512, 1), dtype=np.uint8)\n",
    "test_A4C_image_array_list = np.zeros((len(test_A4C_image_list), 512, 512, 1), dtype=np.uint8)\n",
    "\n",
    "\n",
    "test_A2C_label_array_list = np.zeros((len(test_A2C_label_list), 512, 512, 1), dtype=np.uint8)\n",
    "test_A4C_label_array_list = np.zeros((len(test_A4C_label_list), 512, 512, 1), dtype=np.uint8)"
   ]
  },
  {
   "cell_type": "code",
   "execution_count": null,
   "id": "stretch-undergraduate",
   "metadata": {
    "ExecuteTime": {
     "end_time": "2021-12-07T10:55:53.177684Z",
     "start_time": "2021-12-07T10:55:46.546447Z"
    }
   },
   "outputs": [],
   "source": [
    "for i in tqdm_notebook(range((len(test_A2C_image_list)))):\n",
    "        \n",
    "    A2C_image = cv2.imread(test_A2C_image_list[i], cv2.IMREAD_GRAYSCALE)\n",
    "    A2C_image = cv2.resize(A2C_image, (512,512))\n",
    "    A2C_image = np.expand_dims(A2C_image, axis = -1)\n",
    "    \n",
    "    \n",
    "    A4C_image = cv2.imread(test_A4C_image_list[i], cv2.IMREAD_GRAYSCALE)\n",
    "    A4C_image = cv2.resize(A4C_image, (512,512))\n",
    "    A4C_image = np.expand_dims(A4C_image, axis = -1)    \n",
    "    \n",
    "    \n",
    "    A2C_label = np.load(test_A2C_label_list[i])\n",
    "    A2C_label = cv2.resize(A2C_label, (512,512))\n",
    "    A2C_label = np.expand_dims(A2C_label, axis = -1)\n",
    "    \n",
    "    \n",
    "    A4C_label = np.load(test_A4C_label_list[i])\n",
    "    A4C_label = cv2.resize(A4C_label, (512,512))\n",
    "    A4C_label = np.expand_dims(A4C_label, axis = -1)\n",
    "    \n",
    "    \n",
    "    \n",
    "    test_A2C_image_array_list[i] = A2C_image\n",
    "    test_A4C_image_array_list[i] = A4C_image\n",
    "    \n",
    "    \n",
    "    test_A2C_label_array_list[i] = A2C_label\n",
    "    test_A4C_label_array_list[i] = A4C_label"
   ]
  },
  {
   "cell_type": "code",
   "execution_count": null,
   "id": "complex-boating",
   "metadata": {
    "ExecuteTime": {
     "end_time": "2021-12-07T10:55:53.197865Z",
     "start_time": "2021-12-07T10:55:53.194377Z"
    }
   },
   "outputs": [],
   "source": [
    "test_image = np.zeros((len(test_A2C_image_list), 512, 512, 1, 2), dtype=np.uint8)\n",
    "test_label = np.zeros((len(test_A2C_image_list), 512, 512, 1, 2), dtype=np.uint8)"
   ]
  },
  {
   "cell_type": "code",
   "execution_count": null,
   "id": "subsequent-exhaust",
   "metadata": {
    "ExecuteTime": {
     "end_time": "2021-12-07T10:55:53.301617Z",
     "start_time": "2021-12-07T10:55:53.221502Z"
    }
   },
   "outputs": [],
   "source": [
    "test_image[:,:,:,:,0] = test_A2C_image_array_list\n",
    "test_image[:,:,:,:,1] = test_A4C_image_array_list\n",
    "\n",
    "\n",
    "test_label[:,:,:,:,0] = test_A2C_label_array_list\n",
    "test_label[:,:,:,:,1] = test_A4C_label_array_list"
   ]
  },
  {
   "cell_type": "code",
   "execution_count": null,
   "id": "subsequent-burton",
   "metadata": {
    "ExecuteTime": {
     "end_time": "2021-12-07T10:55:58.171841Z",
     "start_time": "2021-12-07T10:55:53.327084Z"
    },
    "scrolled": true
   },
   "outputs": [],
   "source": [
    "# visualization A2C image & label\n",
    "\n",
    "view = 0\n",
    "\n",
    "for sl in range(20):\n",
    "\n",
    "    plt.figure(figsize=(10,10))\n",
    "\n",
    "    plt.subplot(1,3,1)\n",
    "    plt.imshow(test_image[sl,:,:,:,view], cmap='gray')\n",
    "    plt.axis('off')\n",
    "\n",
    "    plt.subplot(1,3,2)\n",
    "    plt.imshow(test_label[sl,:,:,:,view], cmap='gray')\n",
    "    plt.axis('off')\n",
    "\n",
    "    plt.subplot(1,3,3)\n",
    "    plt.imshow(test_image[sl,:,:,:,view], cmap='gray')\n",
    "    plt.imshow(test_label[sl,:,:,:,view], cmap='Reds', alpha=0.25)\n",
    "    plt.axis('off')"
   ]
  },
  {
   "cell_type": "code",
   "execution_count": null,
   "id": "tough-marketplace",
   "metadata": {
    "ExecuteTime": {
     "end_time": "2021-12-07T10:56:03.005116Z",
     "start_time": "2021-12-07T10:55:58.201024Z"
    }
   },
   "outputs": [],
   "source": [
    "# visualization A4C image & label\n",
    "\n",
    "view = 1\n",
    "\n",
    "for sl in range(20):\n",
    "\n",
    "    plt.figure(figsize=(10,10))\n",
    "\n",
    "    plt.subplot(1,3,1)\n",
    "    plt.imshow(test_image[sl,:,:,:,view], cmap='gray')\n",
    "    plt.axis('off')\n",
    "\n",
    "    plt.subplot(1,3,2)\n",
    "    plt.imshow(test_label[sl,:,:,:,view], cmap='gray')\n",
    "    plt.axis('off')\n",
    "\n",
    "    plt.subplot(1,3,3)\n",
    "    plt.imshow(test_image[sl,:,:,:,view], cmap='gray')\n",
    "    plt.imshow(test_label[sl,:,:,:,view], cmap='Reds', alpha=0.25)\n",
    "    plt.axis('off')"
   ]
  },
  {
   "cell_type": "code",
   "execution_count": null,
   "id": "sealed-collection",
   "metadata": {
    "ExecuteTime": {
     "end_time": "2021-12-07T10:56:03.279374Z",
     "start_time": "2021-12-07T10:56:03.033247Z"
    }
   },
   "outputs": [],
   "source": [
    "np.save('../data/test_dataset/test_image.npy', test_image)\n",
    "np.save('../data/test_dataset/test_label.npy', test_label)"
   ]
  },
  {
   "cell_type": "code",
   "execution_count": null,
   "id": "subject-trout",
   "metadata": {},
   "outputs": [],
   "source": []
  }
 ],
 "metadata": {
  "kernelspec": {
   "display_name": "Python 3 (ipykernel)",
   "language": "python",
   "name": "python3"
  },
  "language_info": {
   "codemirror_mode": {
    "name": "ipython",
    "version": 3
   },
   "file_extension": ".py",
   "mimetype": "text/x-python",
   "name": "python",
   "nbconvert_exporter": "python",
   "pygments_lexer": "ipython3",
   "version": "3.7.11"
  },
  "varInspector": {
   "cols": {
    "lenName": 16,
    "lenType": 16,
    "lenVar": 40
   },
   "kernels_config": {
    "python": {
     "delete_cmd_postfix": "",
     "delete_cmd_prefix": "del ",
     "library": "var_list.py",
     "varRefreshCmd": "print(var_dic_list())"
    },
    "r": {
     "delete_cmd_postfix": ") ",
     "delete_cmd_prefix": "rm(",
     "library": "var_list.r",
     "varRefreshCmd": "cat(var_dic_list()) "
    }
   },
   "types_to_exclude": [
    "module",
    "function",
    "builtin_function_or_method",
    "instance",
    "_Feature"
   ],
   "window_display": false
  }
 },
 "nbformat": 4,
 "nbformat_minor": 5
}
