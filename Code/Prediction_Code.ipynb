{
 "cells": [
  {
   "cell_type": "code",
   "execution_count": 1,
   "metadata": {
    "ExecuteTime": {
     "end_time": "2021-12-07T12:04:17.611494Z",
     "start_time": "2021-12-07T12:04:17.604065Z"
    }
   },
   "outputs": [],
   "source": [
    "import os\n",
    "import numpy as np\n",
    "\n",
    "from tensorflow import keras\n",
    "from tensorflow.keras.layers import *\n",
    "from tensorflow.keras.optimizers import *\n",
    "from tensorflow.keras import backend as K\n",
    "from tensorflow.python.keras.models import *\n",
    "from tensorflow.python.keras.utils.generic_utils import get_custom_objects\n",
    "from tensorflow.python.keras.layers.normalization import BatchNormalization\n",
    "from tensorflow.keras.callbacks import ModelCheckpoint, EarlyStopping,ReduceLROnPlateau\n",
    "\n",
    "# os.environ[\"CUDA_VISIBLE_DEVICES\"]=\"0\""
   ]
  },
  {
   "cell_type": "code",
   "execution_count": 2,
   "metadata": {
    "ExecuteTime": {
     "end_time": "2021-12-07T11:49:19.844306Z",
     "start_time": "2021-12-07T11:49:19.832826Z"
    }
   },
   "outputs": [],
   "source": [
    "def dice_coef(y_true, y_pred, smooth=0.001):\n",
    "    y_true_f = K.flatten(y_true)\n",
    "    y_pred_f = K.flatten(y_pred)\n",
    "    intersection = K.sum(y_true_f * y_pred_f)\n",
    "    return (2. * intersection + smooth) / (K.sum(y_true_f) + K.sum(y_pred_f) + smooth)\n",
    "\n",
    "\n",
    "def dice_coef_loss(y_true, y_pred):\n",
    "    return 1 - dice_coef(y_true, y_pred)\n",
    "\n",
    "\n",
    "get_custom_objects().update({\n",
    "\n",
    "    'dice_coef' : dice_coef,\n",
    "    'dice_coef_loss' : dice_coef_loss,\n",
    "        \n",
    "})\n",
    "\n",
    "\n",
    "# load models from file\n",
    "def load_all_models(n_models):\n",
    "    all_models = list()\n",
    "    for i in range(n_models):\n",
    "        # define filename for this ensemble\n",
    "        filename = '../result/model_save/A2C_A4C_Deep_MVAU_Net_CV_' + str(i + 1) + '.h5'\n",
    "        # load model from file\n",
    "        model = load_model(filename)\n",
    "        # add to list of members\n",
    "        all_models.append(model)\n",
    "        print('>loaded %s' % filename)\n",
    "    return all_models\n",
    "\n",
    "# make a prediction with a model\n",
    "def predict_model(model, inputX):\n",
    "    \n",
    "    return model.predict(inputX, batch_size=4, verbose=1)\n",
    "\n",
    "def prediction_image(pr_1, pr_2, pr_3, pr_4):\n",
    "    \n",
    "    fn_prediction = (pr_1 + pr_2 + pr_3 + pr_4) / 4\n",
    "    \n",
    "    return fn_prediction"
   ]
  },
  {
   "cell_type": "code",
   "execution_count": 3,
   "metadata": {
    "ExecuteTime": {
     "end_time": "2021-12-07T11:49:20.868008Z",
     "start_time": "2021-12-07T11:49:19.846733Z"
    }
   },
   "outputs": [],
   "source": [
    "# load test dataset\n",
    "\n",
    "test_image = np.load('../data/test_dataset/test_image.npy').astype(np.float32)\n",
    "test_label = np.load('../data/test_dataset/test_label.npy').astype(np.float32)"
   ]
  },
  {
   "cell_type": "code",
   "execution_count": 4,
   "metadata": {
    "ExecuteTime": {
     "end_time": "2021-12-07T11:49:21.424615Z",
     "start_time": "2021-12-07T11:49:20.871004Z"
    }
   },
   "outputs": [
    {
     "name": "stdout",
     "output_type": "stream",
     "text": [
      "0.0 1.0\n",
      "0.0 1.0\n"
     ]
    }
   ],
   "source": [
    "# Normalization\n",
    "\n",
    "if test_image.max() == 255:\n",
    "    \n",
    "    test_image = test_image / 255\n",
    "    \n",
    "if test_label.max() == 255:\n",
    "    \n",
    "    test_label = test_label / 255\n",
    "    \n",
    "print(test_image.min(), test_image.max())\n",
    "print(test_label.min(), test_label.max())"
   ]
  },
  {
   "cell_type": "code",
   "execution_count": 5,
   "metadata": {
    "ExecuteTime": {
     "end_time": "2021-12-07T11:50:23.069394Z",
     "start_time": "2021-12-07T11:49:21.429622Z"
    },
    "scrolled": true
   },
   "outputs": [
    {
     "name": "stderr",
     "output_type": "stream",
     "text": [
      "2021-12-07 21:14:55.412224: I tensorflow/stream_executor/platform/default/dso_loader.cc:44] Successfully opened dynamic library libcuda.so.1\n",
      "2021-12-07 21:14:55.497764: I tensorflow/core/common_runtime/gpu/gpu_device.cc:1555] Found device 0 with properties: \n",
      "pciBusID: 0000:06:00.0 name: Tesla P100-SXM2-16GB computeCapability: 6.0\n",
      "coreClock: 1.4805GHz coreCount: 56 deviceMemorySize: 15.90GiB deviceMemoryBandwidth: 681.88GiB/s\n",
      "2021-12-07 21:14:55.497957: I tensorflow/stream_executor/platform/default/dso_loader.cc:44] Successfully opened dynamic library libcudart.so.10.1\n",
      "2021-12-07 21:14:55.499810: I tensorflow/stream_executor/platform/default/dso_loader.cc:44] Successfully opened dynamic library libcublas.so.10\n",
      "2021-12-07 21:14:55.501477: I tensorflow/stream_executor/platform/default/dso_loader.cc:44] Successfully opened dynamic library libcufft.so.10\n",
      "2021-12-07 21:14:55.501745: I tensorflow/stream_executor/platform/default/dso_loader.cc:44] Successfully opened dynamic library libcurand.so.10\n",
      "2021-12-07 21:14:55.503654: I tensorflow/stream_executor/platform/default/dso_loader.cc:44] Successfully opened dynamic library libcusolver.so.10\n",
      "2021-12-07 21:14:55.504624: I tensorflow/stream_executor/platform/default/dso_loader.cc:44] Successfully opened dynamic library libcusparse.so.10\n",
      "2021-12-07 21:14:55.508642: I tensorflow/stream_executor/platform/default/dso_loader.cc:44] Successfully opened dynamic library libcudnn.so.7\n",
      "2021-12-07 21:14:55.511248: I tensorflow/core/common_runtime/gpu/gpu_device.cc:1697] Adding visible gpu devices: 0\n",
      "2021-12-07 21:14:55.511808: I tensorflow/core/platform/cpu_feature_guard.cc:142] Your CPU supports instructions that this TensorFlow binary was not compiled to use: SSE4.1 SSE4.2 AVX AVX2 FMA\n",
      "2021-12-07 21:14:55.543728: I tensorflow/core/platform/profile_utils/cpu_utils.cc:94] CPU Frequency: 2195110000 Hz\n",
      "2021-12-07 21:14:55.548987: I tensorflow/compiler/xla/service/service.cc:168] XLA service 0x55973c7b7440 initialized for platform Host (this does not guarantee that XLA will be used). Devices:\n",
      "2021-12-07 21:14:55.549013: I tensorflow/compiler/xla/service/service.cc:176]   StreamExecutor device (0): Host, Default Version\n",
      "2021-12-07 21:14:55.550549: I tensorflow/core/common_runtime/gpu/gpu_device.cc:1555] Found device 0 with properties: \n",
      "pciBusID: 0000:06:00.0 name: Tesla P100-SXM2-16GB computeCapability: 6.0\n",
      "coreClock: 1.4805GHz coreCount: 56 deviceMemorySize: 15.90GiB deviceMemoryBandwidth: 681.88GiB/s\n",
      "2021-12-07 21:14:55.550579: I tensorflow/stream_executor/platform/default/dso_loader.cc:44] Successfully opened dynamic library libcudart.so.10.1\n",
      "2021-12-07 21:14:55.550596: I tensorflow/stream_executor/platform/default/dso_loader.cc:44] Successfully opened dynamic library libcublas.so.10\n",
      "2021-12-07 21:14:55.550609: I tensorflow/stream_executor/platform/default/dso_loader.cc:44] Successfully opened dynamic library libcufft.so.10\n",
      "2021-12-07 21:14:55.550622: I tensorflow/stream_executor/platform/default/dso_loader.cc:44] Successfully opened dynamic library libcurand.so.10\n",
      "2021-12-07 21:14:55.550635: I tensorflow/stream_executor/platform/default/dso_loader.cc:44] Successfully opened dynamic library libcusolver.so.10\n",
      "2021-12-07 21:14:55.550647: I tensorflow/stream_executor/platform/default/dso_loader.cc:44] Successfully opened dynamic library libcusparse.so.10\n",
      "2021-12-07 21:14:55.550661: I tensorflow/stream_executor/platform/default/dso_loader.cc:44] Successfully opened dynamic library libcudnn.so.7\n",
      "2021-12-07 21:14:55.553282: I tensorflow/core/common_runtime/gpu/gpu_device.cc:1697] Adding visible gpu devices: 0\n",
      "2021-12-07 21:14:55.553318: I tensorflow/stream_executor/platform/default/dso_loader.cc:44] Successfully opened dynamic library libcudart.so.10.1\n",
      "2021-12-07 21:14:55.708870: I tensorflow/core/common_runtime/gpu/gpu_device.cc:1096] Device interconnect StreamExecutor with strength 1 edge matrix:\n",
      "2021-12-07 21:14:55.708900: I tensorflow/core/common_runtime/gpu/gpu_device.cc:1102]      0 \n",
      "2021-12-07 21:14:55.708907: I tensorflow/core/common_runtime/gpu/gpu_device.cc:1115] 0:   N \n",
      "2021-12-07 21:14:55.713033: I tensorflow/core/common_runtime/gpu/gpu_device.cc:1241] Created TensorFlow device (/job:localhost/replica:0/task:0/device:GPU:0 with 15216 MB memory) -> physical GPU (device: 0, name: Tesla P100-SXM2-16GB, pci bus id: 0000:06:00.0, compute capability: 6.0)\n",
      "2021-12-07 21:14:55.714997: I tensorflow/compiler/xla/service/service.cc:168] XLA service 0x559740c8c320 initialized for platform CUDA (this does not guarantee that XLA will be used). Devices:\n",
      "2021-12-07 21:14:55.715014: I tensorflow/compiler/xla/service/service.cc:176]   StreamExecutor device (0): Tesla P100-SXM2-16GB, Compute Capability 6.0\n"
     ]
    },
    {
     "name": "stdout",
     "output_type": "stream",
     "text": [
      ">loaded ../result/model_save/A2C_A4C_Deep_MVAU_Net_CV_1.h5\n",
      ">loaded ../result/model_save/A2C_A4C_Deep_MVAU_Net_CV_2.h5\n",
      ">loaded ../result/model_save/A2C_A4C_Deep_MVAU_Net_CV_3.h5\n",
      ">loaded ../result/model_save/A2C_A4C_Deep_MVAU_Net_CV_4.h5\n"
     ]
    }
   ],
   "source": [
    "cv_num = 4\n",
    "models = load_all_models(cv_num)"
   ]
  },
  {
   "cell_type": "code",
   "execution_count": 6,
   "metadata": {
    "ExecuteTime": {
     "end_time": "2021-12-07T11:50:58.880470Z",
     "start_time": "2021-12-07T11:50:23.074238Z"
    }
   },
   "outputs": [
    {
     "name": "stderr",
     "output_type": "stream",
     "text": [
      "2021-12-07 21:15:34.085777: I tensorflow/stream_executor/platform/default/dso_loader.cc:44] Successfully opened dynamic library libcublas.so.10\n",
      "2021-12-07 21:15:34.545515: I tensorflow/stream_executor/platform/default/dso_loader.cc:44] Successfully opened dynamic library libcudnn.so.7\n",
      "2021-12-07 21:15:36.056358: W tensorflow/stream_executor/gpu/redzone_allocator.cc:312] Not found: ./bin/ptxas not found\n",
      "Relying on driver to perform ptx compilation. This message will be only logged once.\n"
     ]
    },
    {
     "name": "stdout",
     "output_type": "stream",
     "text": [
      "100/100 [==============================] - 8s 80ms/sample\n",
      "100/100 [==============================] - 5s 53ms/sample\n",
      "100/100 [==============================] - 5s 52ms/sample\n",
      "100/100 [==============================] - 5s 52ms/sample\n"
     ]
    }
   ],
   "source": [
    "_, prediction_1 = models[0].predict(test_image, batch_size=1, verbose=1)\n",
    "_, prediction_2 = models[1].predict(test_image, batch_size=1, verbose=1)\n",
    "_, prediction_3 = models[2].predict(test_image, batch_size=1, verbose=1)\n",
    "_, prediction_4 = models[3].predict(test_image, batch_size=1, verbose=1)"
   ]
  },
  {
   "cell_type": "code",
   "execution_count": 7,
   "metadata": {
    "ExecuteTime": {
     "end_time": "2021-12-07T11:51:01.050460Z",
     "start_time": "2021-12-07T11:50:58.885445Z"
    }
   },
   "outputs": [],
   "source": [
    "# make a image from probability\n",
    "\n",
    "threshold_value = 0.5\n",
    "\n",
    "prediction_1 = (prediction_1 > threshold_value) * 1.0\n",
    "prediction_2 = (prediction_2 > threshold_value) * 1.0\n",
    "prediction_3 = (prediction_3 > threshold_value) * 1.0\n",
    "prediction_4 = (prediction_4 > threshold_value) * 1.0\n",
    "\n",
    "pred_label = prediction_image(prediction_1, prediction_2, prediction_3, prediction_4)"
   ]
  },
  {
   "cell_type": "code",
   "execution_count": 8,
   "metadata": {
    "ExecuteTime": {
     "end_time": "2021-12-07T11:59:45.945039Z",
     "start_time": "2021-12-07T11:59:45.220482Z"
    }
   },
   "outputs": [
    {
     "name": "stdout",
     "output_type": "stream",
     "text": [
      "----------------------------------------\n",
      "A2C\n",
      "----------------------------------------\n",
      "DSC:  0.9694793173253917\n",
      "Jaccard:  0.94272953644586\n",
      "----------------------------------------\n",
      "A4C\n",
      "----------------------------------------\n",
      "DSC:  0.981010448543785\n",
      "Jaccard:  0.9632704817360096\n"
     ]
    }
   ],
   "source": [
    "# Evaluation\n",
    "\n",
    "a2c_dice_list = []\n",
    "a4c_dice_list = []\n",
    "\n",
    "a2c_jac_list = []\n",
    "a4c_jac_list = []\n",
    "\n",
    "for i in range(test_label.shape[0]):\n",
    "\n",
    "############### A2C ################\n",
    "    \n",
    "    a2c_seg1 = pred_label[i,:,:,0,0]\n",
    "    a2c_gt1  = test_label[i,:,:,0,0]\n",
    "\n",
    "    a2c_seg1_n = a2c_seg1 == 0\n",
    "    a2c_seg1_t = a2c_seg1 == 1\n",
    "\n",
    "    a2c_gt1_n = a2c_gt1 == 0\n",
    "    a2c_gt1_t = a2c_gt1 == 1\n",
    "\n",
    "\n",
    "    a2c_tp = np.sum(a2c_seg1_t&a2c_gt1_t)\n",
    "    a2c_fp = np.sum(a2c_seg1_t&a2c_gt1_n)\n",
    "    a2c_tn = np.sum(a2c_seg1_n&a2c_gt1_n)\n",
    "    a2c_fn = np.sum(a2c_gt1_t&a2c_seg1_n)\n",
    "\n",
    "    a2c_dice = (2*a2c_tp) / (2*a2c_tp + a2c_fp + a2c_fn)\n",
    "\n",
    "    if a2c_dice !=0 and (2*a2c_tp + a2c_fp + a2c_fn)!=0:\n",
    "        \n",
    "        a2c_dice_list.append(a2c_dice)\n",
    "        a2c_jac_list.append(a2c_dice / (2 - a2c_dice))\n",
    "\n",
    "############### A4C ################\n",
    "\n",
    "    a4c_seg1 = pred_label[i,:,:,0,1]\n",
    "    a4c_gt1  = test_label[i,:,:,0,1]\n",
    "\n",
    "    a4c_seg1_n = a4c_seg1 == 0\n",
    "    a4c_seg1_t = a4c_seg1 == 1\n",
    "\n",
    "    a4c_gt1_n = a4c_gt1 == 0\n",
    "    a4c_gt1_t = a4c_gt1 == 1\n",
    "\n",
    "\n",
    "    a4c_tp = np.sum(a4c_seg1_t&a4c_gt1_t)\n",
    "    a4c_fp = np.sum(a4c_seg1_t&a4c_gt1_n)\n",
    "    a4c_tn = np.sum(a4c_seg1_n&a4c_gt1_n)\n",
    "    a4c_fn = np.sum(a4c_gt1_t&a4c_seg1_n)\n",
    "\n",
    "\n",
    "    a4c_dice = (2*a4c_tp) / (2*a4c_tp + a4c_fp + a4c_fn)\n",
    "\n",
    "    if a4c_dice !=0 and (2*a4c_tp + a4c_fp + a4c_fn)!=0 :\n",
    "        \n",
    "        a4c_dice_list.append(a4c_dice)\n",
    "        a4c_jac_list.append(a4c_dice / (2 - a4c_dice))\n",
    "            \n",
    "\n",
    "print('-'*40)\n",
    "print('A2C')\n",
    "print('-'*40)\n",
    "print('DSC: ', np.mean(a2c_dice_list))\n",
    "print('Jaccard: ', np.mean(a2c_jac_list))\n",
    "\n",
    "print('-'*40)\n",
    "print('A4C')\n",
    "print('-'*40)\n",
    "print('DSC: ', np.mean(a4c_dice_list))\n",
    "print('Jaccard: ', np.mean(a4c_jac_list))"
   ]
  },
  {
   "cell_type": "code",
   "execution_count": null,
   "metadata": {},
   "outputs": [],
   "source": []
  },
  {
   "cell_type": "code",
   "execution_count": null,
   "metadata": {},
   "outputs": [],
   "source": []
  }
 ],
 "metadata": {
  "kernelspec": {
   "display_name": "Python 3 (ipykernel)",
   "language": "python",
   "name": "python3"
  },
  "language_info": {
   "codemirror_mode": {
    "name": "ipython",
    "version": 3
   },
   "file_extension": ".py",
   "mimetype": "text/x-python",
   "name": "python",
   "nbconvert_exporter": "python",
   "pygments_lexer": "ipython3",
   "version": "3.7.11"
  },
  "varInspector": {
   "cols": {
    "lenName": 16,
    "lenType": 16,
    "lenVar": 40
   },
   "kernels_config": {
    "python": {
     "delete_cmd_postfix": "",
     "delete_cmd_prefix": "del ",
     "library": "var_list.py",
     "varRefreshCmd": "print(var_dic_list())"
    },
    "r": {
     "delete_cmd_postfix": ") ",
     "delete_cmd_prefix": "rm(",
     "library": "var_list.r",
     "varRefreshCmd": "cat(var_dic_list()) "
    }
   },
   "types_to_exclude": [
    "module",
    "function",
    "builtin_function_or_method",
    "instance",
    "_Feature"
   ],
   "window_display": true
  }
 },
 "nbformat": 4,
 "nbformat_minor": 4
}
